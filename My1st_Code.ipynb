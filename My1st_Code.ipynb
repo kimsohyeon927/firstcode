{
  "nbformat": 4,
  "nbformat_minor": 0,
  "metadata": {
    "colab": {
      "provenance": [],
      "authorship_tag": "ABX9TyOX/9K2c+eVe6rmTgOOrQaO",
      "include_colab_link": true
    },
    "kernelspec": {
      "name": "python3",
      "display_name": "Python 3"
    },
    "language_info": {
      "name": "python"
    }
  },
  "cells": [
    {
      "cell_type": "markdown",
      "metadata": {
        "id": "view-in-github",
        "colab_type": "text"
      },
      "source": [
        "<a href=\"https://colab.research.google.com/github/kimsohyeon927/firstcode/blob/main/My1st_Code.ipynb\" target=\"_parent\"><img src=\"https://colab.research.google.com/assets/colab-badge.svg\" alt=\"Open In Colab\"/></a>"
      ]
    },
    {
      "cell_type": "markdown",
      "source": [
        "1.나의 생애 첫 코드작성(Hello World!)"
      ],
      "metadata": {
        "id": "Zum1Uj7dhANE"
      }
    },
    {
      "cell_type": "code",
      "execution_count": 1,
      "metadata": {
        "colab": {
          "base_uri": "https://localhost:8080/"
        },
        "id": "R4DLUE8JcOHb",
        "outputId": "df4e7be1-2537-4755-bbe9-4657385d9c3e"
      },
      "outputs": [
        {
          "output_type": "stream",
          "name": "stdout",
          "text": [
            "hello world!\n"
          ]
        }
      ],
      "source": [
        "print(\"hello world!\")"
      ]
    },
    {
      "cell_type": "markdown",
      "source": [
        "2.사칙연산(+,-,*,/)"
      ],
      "metadata": {
        "id": "EMgFcst2kBXr"
      }
    },
    {
      "cell_type": "code",
      "source": [
        "print(4+4, 4-2, 4*4, 4//2)"
      ],
      "metadata": {
        "colab": {
          "base_uri": "https://localhost:8080/"
        },
        "id": "BVZX9pDGke6y",
        "outputId": "9bf4e007-f520-455c-af2a-e31ba673ecb4"
      },
      "execution_count": 4,
      "outputs": [
        {
          "output_type": "stream",
          "name": "stdout",
          "text": [
            "8 2 16 2\n"
          ]
        }
      ]
    }
  ]
}